{
 "cells": [
  {
   "cell_type": "code",
   "execution_count": 4,
   "id": "517c625d-edf5-46d5-af30-0941340b80cf",
   "metadata": {},
   "outputs": [
    {
     "name": "stdout",
     "output_type": "stream",
     "text": [
      "    CountryCode CapitalCity\n",
      "0            AX   Mariehamn\n",
      "1            AF       Kabul\n",
      "2            AL      Tirana\n",
      "3            DZ     Algiers\n",
      "4            AS   Pago Pago\n",
      "..          ...         ...\n",
      "241          EH    Laâyoune\n",
      "242          WS        Apia\n",
      "243          YE       Sanaa\n",
      "244          ZM      Lusaka\n",
      "245          ZW      Harare\n",
      "\n",
      "[246 rows x 2 columns]\n"
     ]
    }
   ],
   "source": [
    "import requests\n",
    "import xml.etree.ElementTree as ET\n",
    "import pandas as pd\n",
    "\n",
    "def get_all_country_codes():\n",
    "    url = \"http://webservices.oorsprong.org/websamples.countryinfo/CountryInfoService.wso\"\n",
    "    headers = {\n",
    "        \"Content-Type\": \"text/xml; charset=utf-8\",\n",
    "        \"SOAPAction\": \"http://www.oorsprong.org/websamples.countryinfo/ListOfCountryNamesByName\"\n",
    "    }\n",
    "    body = \"\"\"\n",
    "    <soap:Envelope xmlns:soap=\"http://schemas.xmlsoap.org/soap/envelope/\">\n",
    "      <soap:Body>\n",
    "        <ListOfCountryNamesByName xmlns=\"http://www.oorsprong.org/websamples.countryinfo\"/>\n",
    "      </soap:Body>\n",
    "    </soap:Envelope>\"\"\"\n",
    "    response = requests.post(url, headers=headers, data=body)\n",
    "    root = ET.fromstring(response.text)\n",
    "    namespaces = {'soap': 'http://schemas.xmlsoap.org/soap/envelope/', 'web': 'http://www.oorsprong.org/websamples.countryinfo'}\n",
    "    codes = [code.text for code in root.findall(\".//web:sISOCode\", namespaces)]\n",
    "    return codes\n",
    "\n",
    "def get_capital_city(country_code):\n",
    "    url = \"http://webservices.oorsprong.org/websamples.countryinfo/CountryInfoService.wso\"\n",
    "    headers = {\n",
    "        \"Content-Type\": \"text/xml; charset=utf-8\",\n",
    "        \"SOAPAction\": \"http://www.oorsprong.org/websamples.countryinfo/CapitalCity\"\n",
    "    }\n",
    "    body = f\"\"\"\n",
    "    <soap:Envelope xmlns:soap=\"http://schemas.xmlsoap.org/soap/envelope/\">\n",
    "      <soap:Body>\n",
    "        <CapitalCity xmlns=\"http://www.oorsprong.org/websamples.countryinfo\">\n",
    "          <sCountryISOCode>{country_code}</sCountryISOCode>\n",
    "        </CapitalCity>\n",
    "      </soap:Body>\n",
    "    </soap:Envelope>\"\"\"\n",
    "    response = requests.post(url, headers=headers, data=body)\n",
    "    root = ET.fromstring(response.text)\n",
    "    namespaces = {'soap': 'http://schemas.xmlsoap.org/soap/envelope/', 'web': 'http://www.oorsprong.org/websamples.countryinfo'}\n",
    "    capital = root.find(\".//web:CapitalCityResult\", namespaces)\n",
    "    if capital is not None:\n",
    "        return capital.text\n",
    "    else:\n",
    "        return None\n",
    "\n",
    "# Fetch all country codes\n",
    "country_codes = get_all_country_codes()\n",
    "\n",
    "# Collect capital cities\n",
    "capital_cities = {}\n",
    "for code in country_codes:\n",
    "    capital = get_capital_city(code)\n",
    "    if capital:\n",
    "        capital_cities[code] = capital\n",
    "\n",
    "# Convert to DataFrame\n",
    "df = pd.DataFrame(list(capital_cities.items()), columns=['CountryCode', 'CapitalCity'])\n",
    "print(df)\n"
   ]
  },
  {
   "cell_type": "code",
   "execution_count": null,
   "id": "cdaa24a4-fe9d-47fd-9a49-6975f43ec337",
   "metadata": {},
   "outputs": [],
   "source": []
  },
  {
   "cell_type": "code",
   "execution_count": null,
   "id": "b9bdab81-900c-4cc9-b0c9-caa9fb6cd098",
   "metadata": {},
   "outputs": [],
   "source": []
  }
 ],
 "metadata": {
  "kernelspec": {
   "display_name": "Python 3 (ipykernel)",
   "language": "python",
   "name": "python3"
  },
  "language_info": {
   "codemirror_mode": {
    "name": "ipython",
    "version": 3
   },
   "file_extension": ".py",
   "mimetype": "text/x-python",
   "name": "python",
   "nbconvert_exporter": "python",
   "pygments_lexer": "ipython3",
   "version": "3.11.5"
  }
 },
 "nbformat": 4,
 "nbformat_minor": 5
}
